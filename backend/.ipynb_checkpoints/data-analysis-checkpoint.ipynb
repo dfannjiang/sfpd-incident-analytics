{
 "cells": [
  {
   "cell_type": "code",
   "execution_count": null,
   "id": "3cf76bdb",
   "metadata": {},
   "outputs": [],
   "source": [
    "%load_ext autoreload\n",
    "%autoreload 2\n"
   ]
  }
 ],
 "metadata": {
  "kernelspec": {
   "display_name": "Python [conda env:sf_incidents_2]",
   "language": "python",
   "name": "conda-env-sf_incidents_2-py"
  },
  "language_info": {
   "codemirror_mode": {
    "name": "ipython",
    "version": 3
   },
   "file_extension": ".py",
   "mimetype": "text/x-python",
   "name": "python",
   "nbconvert_exporter": "python",
   "pygments_lexer": "ipython3",
   "version": "3.9.19"
  }
 },
 "nbformat": 4,
 "nbformat_minor": 5
}
